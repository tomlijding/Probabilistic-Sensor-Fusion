{
 "cells": [
  {
   "cell_type": "markdown",
   "id": "7aead223-1efa-44dd-9725-bbe3c8e847c5",
   "metadata": {
    "deletable": false,
    "editable": false,
    "nbgrader": {
     "cell_type": "markdown",
     "checksum": "6a06189bfced4285098b9b9a19c943a6",
     "grade": false,
     "grade_id": "Header",
     "locked": true,
     "schema_version": 3,
     "solution": false,
     "task": false
    },
    "slideshow": {
     "slide_type": ""
    },
    "tags": []
   },
   "source": [
    "# Assignment 2 -  Extended Kalman filter and Unscented Kalman filter\n",
    "\n",
    "\n",
    "- **Topic:** Desiging an EKF and UKF to estimate the position using magnetic field information\n",
    "- **Assessment:** The assignment will go through a pass/fail check.\n",
    "\n",
    "\n",
    "- **Deadline:**  07-03-2025, 17:00\n",
    "- **Submitting: SUBMIT ONLY `assignment2_groupNumber.ipynb` TO BRIGHTSPACE**, where groupNumber is your groupnumber\n",
    "\n",
    "\n",
    "\n",
    "## Instructions\n",
    "**Installation:** The implementation is tested with python 3.9.12 and packages including\n",
    "-   numpy version: 1.26.4\n",
    "-   scipy version: 1.13.0\n",
    "-   matplotlib version: 3.5.1\n",
    "\n",
    "\n",
    "Other (not too old or new) versions will probabily also work.\n",
    "\n",
    "You may not use other packages for algorithm-related calculations.\n",
    "You only need to complete (and submit) this file.\n",
    "Please do not change the additional files `GP.py`, `helper.py` and `linAlg.py` and the dictionary `modelParameters` as this might result in breaking the assignment.\n",
    "\n",
    "\n",
    "\n",
    "## AI Related Policy\n",
    "We strongly discourage you to use AI tools for implementation assistance. It is your understanding of the problem that is tested in the final exam.\n",
    "\n",
    "\n",
    "## Information\n",
    "Please fill in your group number, names and student numbers in the cell below.\n",
    "\n",
    "<!-- first EKF and then UKF, very similar to normal KF-->"
   ]
  },
  {
   "cell_type": "code",
   "execution_count": 2,
   "id": "7eabfcce-b53a-44e0-a381-ce1232d4a07f",
   "metadata": {},
   "outputs": [],
   "source": [
    "''' YOUR ANSWER HERE '''\n",
    "groupNumber = 17\n",
    "\n",
    "STUDENT_1_NAME = \"Tom Lijding\"\n",
    "STUDENT_1_STUDENT_NUMBER = \"6318037\"\n",
    "\n",
    "STUDENT_2_NAME = \"\"\n",
    "STUDENT_2_STUDENT_NUMBER = \"\"\n",
    "\n",
    "# raise NotImplementedError()"
   ]
  },
  {
   "cell_type": "markdown",
   "id": "aae1e342",
   "metadata": {
    "deletable": false,
    "editable": false,
    "nbgrader": {
     "cell_type": "markdown",
     "checksum": "54f0c8acb92a044d6779802a3044c7b0",
     "grade": false,
     "grade_id": "Q1",
     "locked": true,
     "schema_version": 3,
     "solution": false,
     "task": false
    }
   },
   "source": [
    "## Objectives\n",
    "\n",
    "#### Goal\n",
    "\n",
    "The goal of this assignment is to estimate the position $ \\mathbf{p}_t $ of an agent, the same as assignment 1, but using different algorithmns. The agent moves in an indoor environment and gets information about its approximate change in position $ \\Delta \\mathbf{p}_t $ at every time-step. To model this, you may assume a linear dynamic model of the form:\n",
    "$$\\mathbf{p}_{t + 1} = \\mathbf{p}_t + \\Delta \\mathbf{p}_{t+1} + \\mathbf{w}_{t+1}$$\n",
    "\n",
    "Where:\n",
    "\n",
    "- $\\mathbf{p}_t$ is a 3-dimensional position vector of the agent at time $t$. \n",
    "\n",
    "- $\\Delta \\mathbf{p}_t$ is the change in positon.\n",
    "\n",
    "- $\\mathbf{w}_t \\sim \\mathcal{N}(0_{3 \\times 1}, \\mathbf{Q})$ is Gaussian white noise.\n",
    "\n",
    "- $ \\mathbf{Q} \\in \\mathbb{R}^{3 \\times 3} $ is the covariance of the process noise.\n",
    "\n",
    "Since the information of the change in position $ \\Delta \\mathbf{p}_t$ contains errors, the position estimates from the dynamic model will drift. This means that over time, the agent will lose track of where it actually is. To remedy this, the agent is carrying a magnetometer, and has a map of the magnetic field. The magnetometer samples a measurement of the magnetic field $\\mathbf{y}_t$ at every position $\\mathbf{p}_t$. The map of the magnetic field is modeled by a non-linear function: a reduced rank Gaussian process (you do not need to understand, model or change the GP model, only to call the function evaluation). This results in the non-linear measurement model:\n",
    "$$ \\mathbf{y}_t = f(\\mathbf{p}_t) + \\mathbf{v}_t $$\n",
    "\n",
    "Where:\n",
    "\n",
    "- $\\mathbf{y}_t$ is a 3-dimensional measurement vector of the magnetic field at time-step $t$.\n",
    "\n",
    "- $f(\\cdot)$ is the reduced rank Gaussian process function.\n",
    "\n",
    "- $\\mathbf{v}_t \\sim \\mathcal{N}(0_{3 \\times 1}, \\mathbf{R})$ is Gaussian white noise.\n",
    "\n",
    "- $ \\mathbf{R} \\in \\mathbb{R}^{3 \\times 3} $ is the covariance of the measurement noise.\n",
    "\n",
    "\n",
    "#### First load in the data\n",
    "To start, first load in the data below\n",
    "All variables you will use are numpy arrays, where\n",
    "- `magnetometerMeasurements` $\\in \\mathbb{R}^{3 \\times \\text{T}}$ is a numpy array containing the magnetometer measurements\n",
    "- `magnetometerInitialPosition` $\\in \\mathbb{R}^{3 \\times 1}$ is a numpy array containing the initial position of the magnetometer\n",
    "- `deltaMagnetometerPositions` $\\in \\mathbb{R}^{3 \\times \\text{T}}$ is a numpy array containing the change in position of the magnetometer\n",
    "\n",
    "#### Warning\n",
    "- Additionally you are provided with a dictionary modelParameters which is used in creating magnetic field maps. DO NOT CHANGE dictionary as this might break the assignment. To create the EKF and UKF you DO NOT need this dictionary."
   ]
  },
  {
   "cell_type": "code",
   "execution_count": 14,
   "id": "95ac3921",
   "metadata": {
    "deletable": false,
    "nbgrader": {
     "cell_type": "code",
     "checksum": "1eebbcced18b90089a09a3df84739fce",
     "grade": false,
     "grade_id": "Q1-a-answer",
     "locked": false,
     "schema_version": 3,
     "solution": true,
     "task": false
    }
   },
   "outputs": [
    {
     "ename": "ModuleNotFoundError",
     "evalue": "No module named 'GP'",
     "output_type": "error",
     "traceback": [
      "\u001b[1;31m---------------------------------------------------------------------------\u001b[0m",
      "\u001b[1;31mModuleNotFoundError\u001b[0m                       Traceback (most recent call last)",
      "Cell \u001b[1;32mIn[14], line 5\u001b[0m\n\u001b[0;32m      2\u001b[0m \u001b[38;5;28;01mimport\u001b[39;00m\u001b[38;5;250m \u001b[39m\u001b[38;5;21;01mnumpy\u001b[39;00m\u001b[38;5;250m \u001b[39m\u001b[38;5;28;01mas\u001b[39;00m\u001b[38;5;250m \u001b[39m\u001b[38;5;21;01mnp\u001b[39;00m\n\u001b[0;32m      3\u001b[0m \u001b[38;5;28;01mimport\u001b[39;00m\u001b[38;5;250m \u001b[39m\u001b[38;5;21;01mmatplotlib\u001b[39;00m\u001b[38;5;21;01m.\u001b[39;00m\u001b[38;5;21;01mpyplot\u001b[39;00m\u001b[38;5;250m \u001b[39m\u001b[38;5;28;01mas\u001b[39;00m\u001b[38;5;250m \u001b[39m\u001b[38;5;21;01mplt\u001b[39;00m\n\u001b[1;32m----> 5\u001b[0m \u001b[38;5;28;01mimport\u001b[39;00m\u001b[38;5;250m \u001b[39m\u001b[38;5;21;01mGP\u001b[39;00m\u001b[38;5;250m \u001b[39m\u001b[38;5;28;01mas\u001b[39;00m\u001b[38;5;250m \u001b[39m\u001b[38;5;21;01mGP\u001b[39;00m\n\u001b[0;32m      6\u001b[0m \u001b[38;5;28;01mimport\u001b[39;00m\u001b[38;5;250m \u001b[39m\u001b[38;5;21;01mlinAlg\u001b[39;00m\u001b[38;5;250m \u001b[39m\u001b[38;5;28;01mas\u001b[39;00m\u001b[38;5;250m \u001b[39m\u001b[38;5;21;01mlinAlg\u001b[39;00m\n\u001b[0;32m      7\u001b[0m \u001b[38;5;28;01mimport\u001b[39;00m\u001b[38;5;250m \u001b[39m\u001b[38;5;21;01mhelper\u001b[39;00m\u001b[38;5;250m \u001b[39m\u001b[38;5;28;01mas\u001b[39;00m\u001b[38;5;250m \u001b[39m\u001b[38;5;21;01mhelper\u001b[39;00m\n",
      "\u001b[1;31mModuleNotFoundError\u001b[0m: No module named 'GP'"
     ]
    }
   ],
   "source": [
    "''' DO NOT CHANGE THE CODE BELOW '''\n",
    "import numpy as np\n",
    "import matplotlib.pyplot as plt\n",
    "\n",
    "import GP as GP\n",
    "import linAlg as linAlg\n",
    "import helper as helper\n",
    "np.random.seed(groupNumber)\n",
    "\n",
    "(magnetometerMeasurements, \n",
    " magnetometerInitialPosition, \n",
    " deltaMagnetometerPositions,\n",
    " modelParameters) = helper.initializeKalmanFilterAssignment(groupNumber % 29)\n"
   ]
  },
  {
   "cell_type": "markdown",
   "id": "7e78c078",
   "metadata": {},
   "source": [
    "Same as the first assignment of particle filter, below, a function `helper.makeDeadReckoningPlots()` is given to plot the map of the magnetic field and the ground truth position of the path taken by the agent. The agent does not know this path, it only has access to its initial position, the change in position at every time-step and the magnetometer measurements. You can reuse the code for the plots.\n",
    "\n",
    "Your first task it to use the agent's dynamic model to try and reconstruct the ground truth path. This is also known as dead reckoning and should be done using data stored in the variables `magnetometerInitialPosition` and `deltaMagnetometerPositions`. Save the agent's positions according to the dynamic model in the variable `deadReckoning` $\\in \\mathbb{R}^{3 \\times \\text{T}}$. Additionally, compare the magnetometer measurements with the map of the magnetic field. To achieve this, store the norm of the magnetic field at every time-step in the variable `magneticFieldNorm` $\\in \\mathbb{R}^{\\text{T}}$.\n",
    "\n",
    "This function should output two subfigures. Every subfigure includes the magnetic field map in the background. On the left the ground truth positions are plotted together with the dead reckoning positions. On the right, the magnetic field measurements are plotted with  the ground truth positions over the magnetic field map."
   ]
  },
  {
   "cell_type": "code",
   "execution_count": null,
   "id": "4d7d2279",
   "metadata": {},
   "outputs": [],
   "source": [
    "deadReckoning = \"\"\n",
    "magneticFieldNorm = \"\"\n",
    "\n",
    "\n",
    "helper.makeDeadReckoningPlots(deadReckoning, magneticFieldNorm, modelParameters)"
   ]
  },
  {
   "cell_type": "markdown",
   "id": "576fe1ab",
   "metadata": {},
   "source": [
    "## EKF and UKF\n",
    "To  use magnetometer measurements to reduce the positional drift observed in the figure above, besides PF in the previous lectures, you can also use EKF and UKF."
   ]
  },
  {
   "cell_type": "markdown",
   "id": "3c20e66d",
   "metadata": {},
   "source": [
    "### EKF Implementation\n",
    "\n",
    "You start from implementing EKF.  Your task is to fill in the following functions.\n",
    "\n",
    "#### Task 1\n",
    "Fill in the `dynamicUpdateEKF()` function according to the dynamic model given above. \n",
    "\n",
    "**Note:**\n",
    "You do not have to change the inputs and outputs to the given functions.\n"
   ]
  },
  {
   "cell_type": "code",
   "execution_count": null,
   "id": "ec8a02ff",
   "metadata": {},
   "outputs": [],
   "source": [
    "\n",
    "def dynamicUpdateEKF(position, \n",
    "                   deltaPos, \n",
    "                   posCov, \n",
    "                   motionCovarianceEKF, \n",
    "                   modelParameters):\n",
    "    ''' Dynamic update '''\n",
    "    position = \"\"    \n",
    "    posCov = \"\"\n",
    "\n",
    "    return position, posCov\n",
    "\n"
   ]
  },
  {
   "cell_type": "markdown",
   "id": "57d43cf6",
   "metadata": {},
   "source": [
    "#### Task 2\n",
    "\n",
    "Complete the function `measurementUpdateEKF()` according to the measurement model given above. \n",
    "\n",
    "To implement the measurement model, you will need to make predictions of the magnetic field. You DO NOT need to create this function yourself. To make predictions, use the function `GP.makeMagneticFieldPrediction(positions, modelParameters)` function make sure the input `positions` $\\in \\mathbb{R}^{3 \\times 1} $. The output should be a matrix $\\in \\mathbb{R}^{3 \\times 1}$ magnetic field predictions for every input location.  Similarly, to find the Jacobian, you muse use the GP.makeMagneticFieldJacobian(position, modelParameters) function make sure the input position is a vector of 3x1. The output should be a matrix of 3x3."
   ]
  },
  {
   "cell_type": "code",
   "execution_count": null,
   "id": "06c9e674",
   "metadata": {},
   "outputs": [],
   "source": [
    "def measurementUpdateEKF(position, \n",
    "                         magnetometerMeasurement, \n",
    "                         posCov, \n",
    "                         measurementCovarianceEKF,\n",
    "                         modelParameters):\n",
    "    \n",
    "    ''' Measurement update '''\n",
    "\n",
    "    magneticFieldPrediction = GP.makeMagneticFieldPrediction(position, modelParameters) \n",
    "    jacobianMagneticFieldPrediction = GP.makeMagneticFieldJacobian(position, modelParameters)\n",
    "\n",
    "\n",
    "\n",
    "    return position, posCov"
   ]
  },
  {
   "cell_type": "markdown",
   "id": "1c347d47",
   "metadata": {},
   "source": [
    "`extendedKalmanFilter()` is given as follows. You don't need to change it."
   ]
  },
  {
   "cell_type": "code",
   "execution_count": null,
   "id": "1ed47f5c",
   "metadata": {},
   "outputs": [],
   "source": [
    "''' DO NOT CHANGE THE CODE BELOW '''\n",
    "\n",
    "def extendedKalmanFilter(position, \n",
    "                         deltaPosition, \n",
    "                         magnetometerMeasurement, \n",
    "                         posCov, \n",
    "                         motionCovarianceEKF, \n",
    "                         measurementCovarianceEKF, \n",
    "                         modelParameters):\n",
    "    ''' Estimates positions'''\n",
    "\n",
    "    ''' Dynamic update '''    \n",
    "    if modelParameters['NtimeStepEKF'] > 0:\n",
    "        (position, \n",
    "         posCov) = dynamicUpdateEKF(position, \n",
    "                                  deltaPosition, \n",
    "                                  posCov, \n",
    "                                  motionCovarianceEKF,\n",
    "                                  modelParameters)\n",
    "\n",
    "    ''' Measurement update '''\n",
    "    (position, \n",
    "     posCov) = measurementUpdateEKF(position,\n",
    "                                    magnetometerMeasurement, \n",
    "                                    posCov, \n",
    "                                    measurementCovarianceEKF,\n",
    "                                    modelParameters)\n",
    "\n",
    "    return position, posCov\n"
   ]
  },
  {
   "cell_type": "markdown",
   "id": "6fac92b4",
   "metadata": {},
   "source": [
    "#### Task 3\n",
    "\n",
    "Be sure to set the **initial position** and the **prior** on it correctly  and a **suitable measurement covariance** as you did in assignment 1.\n",
    "\n",
    "You could start with the following parameters\n",
    "- `motionCovarianceUKF` = np.eye(3)*0.001**2 \n",
    "- `measurementCovarianceUKF` = np.eye(3)*1.5**2\n",
    "\n",
    "Make sure `posCovarianceUKF` is a 3d tensor with the shape of `[3,3,NtimeSteps]`, to save the position covariances for every time step.\n",
    "To get better results, you might have to tune these. "
   ]
  },
  {
   "cell_type": "code",
   "execution_count": null,
   "id": "989a9af3",
   "metadata": {},
   "outputs": [],
   "source": [
    "''' Initialize the EKF '''\n",
    "modelParameters['NtimeStepEKF'] = 0\n",
    "\n",
    "motionCovarianceEKF = \" \"\n",
    "measurementCovarianceEKF =\" \"\n",
    "\n",
    "posEstEKF = \" \"\n",
    "posCovarianceEKF = \"  \"\n",
    "\n",
    "''' Run the EKF'''\n",
    "\n",
    "for timendx in range(modelParameters['NtimeSteps']-1):\n",
    "    deltaPosEKF = deltaMagnetometerPositions[:, timendx:timendx+1]\n",
    "    ymeasEKF = magnetometerMeasurements[:, timendx:timendx+1]\n",
    "    (posEstEKF[:, timendx+1:timendx+2], \n",
    "     posCovarianceEKF[:, :, timendx+1]) = extendedKalmanFilter(posEstEKF[:, timendx:timendx+1], \n",
    "                                              deltaPosEKF, \n",
    "                                              ymeasEKF, \n",
    "                                              posCovarianceEKF[:, :, timendx],\n",
    "                                              motionCovarianceEKF,\n",
    "                                              measurementCovarianceEKF,\n",
    "                                              modelParameters)\n",
    "    modelParameters['NtimeStepEKF'] += 1"
   ]
  },
  {
   "cell_type": "markdown",
   "id": "a478619a",
   "metadata": {},
   "source": [
    "#### discussion\n",
    "\n",
    "Elaborate on the effects of tuning the different variables:\n",
    "\n",
    "- `motionCovarianceEKF`\n",
    "- `measurementCovarianceEKF`\n",
    "- The initial posiiton covariance `posCovarianceEKF[:, :, 0]`\n"
   ]
  },
  {
   "cell_type": "markdown",
   "id": "f80854dc",
   "metadata": {},
   "source": [
    "#### Visualize the output\n",
    "<!-- TODO: keep or not. maybe comparison between EKF and UKF in the end is enough -->"
   ]
  },
  {
   "cell_type": "code",
   "execution_count": null,
   "id": "4c89fd42",
   "metadata": {},
   "outputs": [],
   "source": [
    "''' DO NOT CHANGE THE CODE BELOW '''\n",
    "helper.makeExtendedKalmanFilterPlots(deadReckoning, posEstEKF, posCovarianceEKF, modelParameters)"
   ]
  },
  {
   "cell_type": "markdown",
   "id": "88828559",
   "metadata": {},
   "source": [
    "**Discussion**\n",
    "\n",
    "Explain why the covariance changes over time the way it does. You can create more plots if necessary for your analysis."
   ]
  },
  {
   "cell_type": "markdown",
   "id": "977893a0",
   "metadata": {},
   "source": [
    "### UKF implement \n",
    "\n",
    "#### Task 1\n",
    "Fill in the `dynamicUpdateUKF()` function according to the dynamic model given above. \n",
    "\n",
    "#### Note:\n",
    "You do not have to change the inputs and outputs to the given functions.\n"
   ]
  },
  {
   "cell_type": "code",
   "execution_count": null,
   "id": "d7e18b41",
   "metadata": {},
   "outputs": [],
   "source": [
    "def dynamicUpdateUKF(position, \n",
    "                   deltaPos, \n",
    "                   posCov, \n",
    "                   motionCovarianceUKF, \n",
    "                   modelParameters):\n",
    "    ''' Dynamic update '''\n",
    "    position = \" \"    \n",
    "    posCov = \" \"\n",
    "\n",
    "    return position, posCov"
   ]
  },
  {
   "cell_type": "markdown",
   "id": "e85d6304",
   "metadata": {},
   "source": [
    "#### Task 2\n",
    "\n",
    "- Complete creating sigma points `createSigmaPoints()` and calculating sigma weights `calculateSigmaWeights()`.\n",
    "- Fill in the `measurementUpdateUKF()` according to the measurement model given above. \n",
    "- You can play around with UT1 and UT2, can you see any obvious differences?\n"
   ]
  },
  {
   "cell_type": "code",
   "execution_count": null,
   "id": "9ee1d0a9",
   "metadata": {},
   "outputs": [],
   "source": [
    "def createSigmaPoints(stateVector, \n",
    "                      stateCovariance, \n",
    "                      lamdaWeights,\n",
    "                      modelParameters):\n",
    "    ''' Create sigma points '''\n",
    "    return sigmaPoints\n",
    "\n",
    "\n",
    "def calculateSigmaWeights(UTnumber = 1):\n",
    "    ''' Calculate the weights '''\n",
    "    if UTnumber == 1:\n",
    "        '''UT1'''\n",
    "\n",
    "    else:\n",
    "        '''UT2'''\n",
    "    \n",
    "    return lamdaWeights, weightsMean, weightsCov\n",
    "\n",
    "\n",
    "def measurementUpdateUKF(position,\n",
    "                         magnetometerMeasurement,\n",
    "                         posCovariance,\n",
    "                         measurementCovarianceUKF,\n",
    "                         lamdaWeights, \n",
    "                         weightsMean, \n",
    "                         weightsCovariance,\n",
    "                         modelParameters):\n",
    "    \n",
    "    ''' Measurement update '''\n",
    "\n",
    "    return position, posCovariance"
   ]
  },
  {
   "cell_type": "markdown",
   "id": "2951210f",
   "metadata": {},
   "source": [
    "`unscentedKalmanFilter()` is given as follows. You don't need to change it."
   ]
  },
  {
   "cell_type": "code",
   "execution_count": null,
   "id": "1c1b4da7",
   "metadata": {},
   "outputs": [],
   "source": [
    "''' DO NOT CHANGE THE CODE BELOW '''\n",
    "def unscentedKalmanFilter(position, \n",
    "                          deltaPos, \n",
    "                          magnetometerMeasurement, \n",
    "                          posCovariance, \n",
    "                          motionCovarianceUKF,\n",
    "                          measurementCovarianceUKF,\n",
    "                          lamdaWeights, \n",
    "                          weightsMean, \n",
    "                          weightsCovariance,\n",
    "                          modelParameters):\n",
    "\n",
    "    if modelParameters['NtimeStepUKF'] > 0:\n",
    "        ''' State update '''\n",
    "        position, posCovariance = dynamicUpdateUKF(position, \n",
    "                                                deltaPos, \n",
    "                                                posCovariance, \n",
    "                                                motionCovarianceUKF, \n",
    "                                                modelParameters)\n",
    "\n",
    "    ''' Measurement update '''\n",
    "    position, posCovariance = measurementUpdateUKF(position, \n",
    "                                                   magnetometerMeasurement, \n",
    "                                                   posCovariance, \n",
    "                                                   measurementCovarianceUKF,\n",
    "                                                   lamdaWeights,\n",
    "                                                   weightsMean,\n",
    "                                                   weightsCovariance,\n",
    "                                                   modelParameters)\n",
    "\n",
    "    return position, posCovariance\n",
    "\n"
   ]
  },
  {
   "cell_type": "markdown",
   "id": "89459515",
   "metadata": {},
   "source": [
    "#### Task 3\n",
    "\n",
    "Be sure to set the **initial position** and the **prior** on it correctly  and a **suitable measurement covariance** as you did in assignment 1.\n",
    "\n",
    "You could start with the following parameters\n",
    "- `motionCovarianceUKF` = np.eye(3)*0.001**2 \n",
    "- `measurementCovarianceUKF` = np.eye(3)*1.5**2\n",
    "\n",
    "Make sure `posCovarianceUKF` is a 3d tensor with the shape of `[3,3,NtimeSteps]`, to save the position covariances for every time step.\n",
    "To get better results, you might have to tune these. "
   ]
  },
  {
   "cell_type": "code",
   "execution_count": null,
   "id": "f35ba496",
   "metadata": {},
   "outputs": [],
   "source": [
    "\n",
    "''' Initialize the UKF '''\n",
    "modelParameters['NtimeStepUKF'] = 0\n",
    "\n",
    "\n",
    "motionCovarianceUKF = \" \"\n",
    "measurementCovarianceUKF = \" \"\n",
    "posEstUKF = \" \"\n",
    "posCovarianceUKF = \" \" \n",
    "\n",
    "lamdaWeights, weightsMean, weightsCovariance = calculateSigmaWeights()\n",
    "''' Run the UKF'''\n",
    "for timendx in range(modelParameters['NtimeSteps']-1):\n",
    "    (posEstUKF[:, timendx+1:timendx+2], \n",
    "     posCovarianceUKF[:, :, timendx+1]) = unscentedKalmanFilter(posEstUKF[:, timendx:timendx+1], \n",
    "                                               deltaMagnetometerPositions[:, timendx:timendx+1], \n",
    "                                               magnetometerMeasurements[:, timendx:timendx+1], \n",
    "                                               posCovarianceUKF[:, :, timendx],\n",
    "                                               motionCovarianceUKF,\n",
    "                                               measurementCovarianceUKF,\n",
    "                                               lamdaWeights, \n",
    "                                               weightsMean, \n",
    "                                               weightsCovariance,\n",
    "                                               modelParameters)\n",
    "    modelParameters['NtimeStepUKF'] += 1\n",
    "\n",
    "\n",
    "\n",
    "posCovarianceEKF = np.zeros((3, 3, modelParameters['NtimeSteps']))\n",
    "posCovarianceEKF[:,:,0] = np.eye(3)*0\n"
   ]
  },
  {
   "cell_type": "markdown",
   "id": "5bf9be76",
   "metadata": {},
   "source": [
    "#### discussion\n",
    "\n",
    "Elaborate on the effects of tuning the different variables:\n",
    "\n",
    "- `motionCovarianceUKF`\n",
    "- `measurementCovarianceUKF`\n",
    "- The initial posiiton covariance `posCovarianceUKF[:, :, 0]`\n",
    "\n",
    "Is it different from tuning the variables for the EKF?"
   ]
  },
  {
   "cell_type": "markdown",
   "id": "feaefd27",
   "metadata": {},
   "source": [
    "### compare EKF and UKF\n",
    "#### Visualize the output"
   ]
  },
  {
   "cell_type": "code",
   "execution_count": null,
   "id": "f57fbf62",
   "metadata": {},
   "outputs": [],
   "source": [
    "helper.makeKalmanFilterPlots(deadReckoning, posEstEKF, posEstUKF, modelParameters)"
   ]
  },
  {
   "cell_type": "markdown",
   "id": "bdb099e7",
   "metadata": {},
   "source": [
    "#### Discussion\n",
    "Elaborate on the two plots.\n",
    "- Compare the results from the UKF with the EKF? Does one provide better results? Elaborate!\n",
    "- Comment on the reason for choosing either EKF, UKF of PF for this non-linear estimation problem. Also relate this to the results from assignment 1. \n",
    "- In what type of estimation problems would you expect to see very different results for the EKF, UKF and PF? \n"
   ]
  },
  {
   "cell_type": "markdown",
   "id": "8c60f1fa",
   "metadata": {},
   "source": [
    "<!-- TODO: DO WE NEED THE \"PLAY AROUND WITH DIFFERENT PARAMETERS SESSION AS THE FIRST ASSIGMENT?\" -->"
   ]
  }
 ],
 "metadata": {
  "kernelspec": {
   "display_name": "base_39",
   "language": "python",
   "name": "python3"
  },
  "language_info": {
   "codemirror_mode": {
    "name": "ipython",
    "version": 3
   },
   "file_extension": ".py",
   "mimetype": "text/x-python",
   "name": "python",
   "nbconvert_exporter": "python",
   "pygments_lexer": "ipython3",
   "version": "3.9.21"
  }
 },
 "nbformat": 4,
 "nbformat_minor": 5
}
