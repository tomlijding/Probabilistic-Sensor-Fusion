{
 "cells": [
  {
   "cell_type": "markdown",
   "metadata": {},
   "source": [
    "## Assignment 4 - Distributed Kalman Filtering\n",
    "\n",
    "- **Topic:** Distributed state estimation of a target\n",
    "- **Assessment:** The assignment will go through a pass/fail check.\n",
    "\n",
    "\n",
    "- **Deadline:** 28-03-2025, 17:00\n",
    "- **Submitting: SUBMIT ONLY `assignment4_groupNumber.ipynb` TO BRIGHTSPACE**. \n",
    "where groupNumber is your group number.\n",
    "\n",
    "\n",
    "\n",
    "### Instructions\n",
    "**Installation:** The implementation is tested with python 3.9.21 and packages including\n",
    "-   numpy version: 2.0.2\n",
    "-   matplotlib version: 3.9.4\n",
    "\n",
    "\n",
    "Other (not too old or new) versions will probably also work.\n",
    "\n",
    "You may not use other packages for algorithm-related calculations.\n",
    "You only need to complete (and submit) this file.\n",
    "Please do not change the additional files `helper.py` and `linAlg.py`, and the dictionary `model_parameters` as this might result in breaking the assignment.\n",
    "\n",
    "\n",
    "### AI Related Policy\n",
    "We strongly discourage you to use AI tools for implementation assistance. It is your understanding of the problem that is tested in the final exam.\n",
    "\n",
    "### Personal Information\n",
    "Please fill in your names and student numbers in the cell below."
   ]
  },
  {
   "cell_type": "code",
   "execution_count": null,
   "metadata": {},
   "outputs": [],
   "source": [
    "# YOUR ANSWER HERE\n",
    "STUDENT_1_NAME = \"Tom Lijding\"\n",
    "STUDENT_1_STUDENT_NUMBER = \"6318037\"\n",
    "\n",
    "STUDENT_2_NAME = \"\"\n",
    "STUDENT_2_STUDENT_NUMBER = \"\""
   ]
  },
  {
   "cell_type": "markdown",
   "metadata": {},
   "source": [
    "### Description and Objectives\n",
    "\n",
    "The primary objective of this assignment is to estimate the position of a maneuvering target in 2D using a network of anchors. The target is traveling along an unknown trajectory in two dimensions, within the sensing range of the anchors, which have fixed positions. The anchors can measure the radial distance between themselves and the target throughout its journey, with some noise.\n",
    "\n",
    "We consider a scenario similar to (but not identical to) the figure shown below. In the figure, a network of fixed-position anchors (blue circles) measures the radial distances (red circles) between themselves and the target (represented as a purple triangle). To estimate the target's position the anchors need to communicate with one another, however, they are only allowed to interact with their immediate neighbors in the network as indicated by the gray dashed lines.\n",
    "\n",
    "The main focus will be to collaboratively estimate the target's position using distributed state estimation, by implementing a distributed Kalman filter formulation.\n",
    "\\\n",
    "![alt text](multiagent_tracking.png \"Title\") \n",
    "\n",
    "Each anchor is denoted by an integer $n \\in \\{1, 2, \\dots, N\\}$ where $N$ is the number of anchors in the network. \n",
    "At each time step $k$, anchors measure the squared distance $(d_k^n)^2 \\in \\mathbb{R}^+$ between their (fixed) positions $\\mathbf{p}^n \\in \\mathbb{R}^2$ and the target position $\\mathbf{p}_k \\in \\mathbb{R}^2$ as\n",
    "$$\n",
    "    d_k^n \\triangleq ||\\mathbf{p}^n - \\mathbf{p}_k ||_2.\n",
    "$$\n",
    "Unfortunately the measurement model is nonlinear and not suitable for a standard Kalman filter in this form.\n",
    "We can however, tweak this formulation to obtain a linear form by squaring the distance and expanding the squared norm as\n",
    "\\begin{aligned}\n",
    "    (d_k^n)^2 &=  ||\\mathbf{p}^n - \\mathbf{p}_k ||_2^2 = (\\mathbf{p}^n - \\mathbf{p}_k)^T (\\mathbf{p}^n - \\mathbf{p}_k), \\\\\n",
    "              &= (\\mathbf{p}^n)^T \\mathbf{p}^n - 2 (\\mathbf{p}^n)^T \\mathbf{p}_k + \\mathbf{p}_k^T \\mathbf{p}_k, \\\\\n",
    "    (d_k^n)^2 - (\\mathbf{p}^n)^T \\mathbf{p}^n &= - 2 (\\mathbf{p}^n)^T \\mathbf{p}_k + \\mathbf{p}_k^T \\mathbf{p}_k, \\\\\n",
    "    y_k^n &= \\tilde{\\mathbf{H}}^n \\tilde{\\mathbf{p}}_k,\n",
    "\\end{aligned}\n",
    "where $y_k^n \\triangleq (d_k^n)^2 - ||\\mathbf{p}^n||_2^2, \\quad  \\tilde{\\mathbf{H}}^n \\triangleq \\begin{bmatrix}  - 2 (\\mathbf{p}^n)^T  &  1 \\end{bmatrix}, \\quad  \\tilde{\\mathbf{p}}_k \\triangleq  \\begin{bmatrix} \\mathbf{p}_k^T & ||\\mathbf{p}_k||_2^2 \\end{bmatrix}^T$.\n",
    "Notice that we added $||\\mathbf{p}_k||_2^2$ as a state variable to make this measurement model linear.\n",
    "\n",
    "To use this approach, let us define the state vector of the target as \n",
    "$$ \n",
    "\\mathbf{x}_k \\triangleq \\begin{bmatrix} \\mathbf{p}_k^T & \\dot{\\mathbf{p}}_k^T &  ||\\mathbf{p}_k||_2^2 \\end{bmatrix}^T,\n",
    "$$\n",
    "where $ \\dot{\\mathbf{p}}_k \\in \\mathbb{R}^2 $ represents the velocity vector.\n",
    "We can now formulate a state space model to use it for state estimation. \n",
    "Denote the state space equations as\n",
    "\\begin{aligned}\n",
    "    \\mathbf{x}_{k+1} &= \\mathbf{F} \\mathbf{x}_k + \\mathbf{w}, \\quad \\mathbf{w} \\sim \\mathcal{N}(0, \\mathbf{Q}), \\\\\n",
    "    y_k^n &= \\mathbf{H}^n \\mathbf{x}_k + v, \\quad v \\sim \\mathcal{N}(0, R),\n",
    "\\end{aligned}\n",
    "where we choose the dynamic model matrix $\\mathbf{F}$ and $\\mathbf{H}^n$ as\n",
    "\\begin{aligned}\n",
    "    \\mathbf{F} &\\triangleq \\text{blkdiag} \\biggl( \\begin{bmatrix} 1 & \\Delta t_k \\\\ 0 & 1 \\end{bmatrix} \\otimes \\mathbb{I}_2, 1 \\biggr), \\\\\n",
    "    \\mathbf{H}^n &\\triangleq \\begin{bmatrix}  - 2 (\\mathbf{p}^n)^T & 0 & 0 & 1 \\end{bmatrix}, \\\\\n",
    "\\end{aligned}\n",
    "and $ \\Delta t_k $ is the time difference between time step $k+1$ and $k$."
   ]
  },
  {
   "cell_type": "markdown",
   "metadata": {},
   "source": [
    "### Provided data\n",
    "First let us load the simulated data, the data consists of the following elements\n",
    "- `dt` $\\in \\mathbb{R}^+$ (float): Time difference between consecutive time steps\n",
    "- `T` $\\in \\mathbb{N}$ (int): Number of time steps\n",
    "- `edge_list` (list of tuples): Stores the edges as `(i,j)` which denotes the connection between anchors `i` and `j`.\n",
    "- `anchor_positions` $\\in \\mathbb{R}^{2 \\times N}$ (numpy array): Horizontally stacked anchor position vectors $[\\mathbf{p}^1, \\ \\mathbf{p}^2, \\ \\dots, \\mathbf{p}^N]$ \n",
    "- `measurement_list` $\\in \\mathbb{R}^{N \\times T}$ (numpy array): List of measurements $y_k^n$ where `measurement_list[n, k]` denotes the measurement of anchor `n` at time step `k`.\n",
    "- `true_positions` $\\in \\mathbb{R}^{2 \\times T}$ (numpy array): Horizontally stacked true positions of the target $[\\mathbf{p}_1, \\ \\mathbf{p}_2, \\ \\dots, \\mathbf{p}_T]$ \n",
    "\n",
    "After we load the data, let us see what the anchor network, the ground truth trajectory and measurements look like. Note that the measurements plotted as two dimensional points just for clarity. Actual measurements look more like circles since we only measure the radial distances."
   ]
  },
  {
   "cell_type": "code",
   "execution_count": null,
   "metadata": {},
   "outputs": [],
   "source": [
    "import numpy as np\n",
    "import matplotlib.pyplot as plt\n",
    "from linAlg import block_diag\n",
    "import helper as helper\n",
    "\n",
    "\n",
    "plt.rcParams.update(\n",
    "    {\n",
    "        \"lines.linewidth\": 1.0,\n",
    "        \"lines.markersize\": 10,\n",
    "        \"lines.markeredgewidth\": 1.0\n",
    "        \n",
    "    }\n",
    ")\n",
    "measurement_list, true_states, anchor_positions, edge_list, dt, T, model_parameters = helper.initializeDKFAssignment()\n",
    "\n",
    "helper.plotMeasurementsAndGroundTruth(true_states, anchor_positions, edge_list, model_parameters)\n"
   ]
  },
  {
   "cell_type": "markdown",
   "metadata": {},
   "source": [
    "### Task 1: Construct Matrices\n",
    "Construct dynamic model matrix $\\mathbf{F}$ and measurement model matrices $\\mathbf{H}^n$ as described above. \n",
    "You can use the parameters `initial_mean` vector,`initial_covariance` matrix, process covariance matrix `Q` and measurement noise variance `R` provided below for the rest of the assignment. \n",
    "You can use `block_diag` function to construct $\\mathbf{F}$.\n",
    "\n",
    "\n",
    "### Analysis:\n",
    "Elaborate on the following:\n",
    "- Why do we add the new variable $||\\mathbf{p}_k||_2^2$ to the state vector? If we wanted to avoid doing this, how would you proceed? \n",
    "- Comment on the dynamic update model of the state variable $||\\mathbf{p}_k||_2^2$. Does it properly represent the true dynamics? If not, what can be done to mitigate its drawbacks?"
   ]
  },
  {
   "cell_type": "code",
   "execution_count": null,
   "metadata": {},
   "outputs": [],
   "source": [
    "#####  YOUR CODE HERE #####\n",
    "\n",
    "\n",
    "\n",
    "\n",
    "##### END HERE #####\n",
    "\n",
    "\n",
    "# Initial Mean and covariance\n",
    "initial_estimate = np.zeros((5,1))\n",
    "initial_covariance = np.eye(initial_estimate.shape[0])*100.0\n",
    "\n",
    "# Process noise covariance (Q) and Measurement noise covariance (R)\n",
    "Q = np.diag([1.5, 0.15, 1.5, 0.15, 100.0])\n",
    "R = 0.75\n"
   ]
  },
  {
   "cell_type": "markdown",
   "metadata": {},
   "source": [
    "### Task 2: Centralized Kalman Filter Implementation\n",
    "Implement a centralized version of the Kalman filter by using all measurements generated by the anchors to update the state estimate. After each time step, append your mean and covariance estimates to lists `centralized_means` and `centralized_covariances` respectively.\n",
    "\n",
    "Note that for the centralized measurement update version you can use an augmented measurement model in the form\n",
    "\\begin{aligned}\n",
    "    \\begin{bmatrix} y_k^1 \\\\  y_k^2 \\\\ ... \\\\  y_k^N \\end{bmatrix} &= \\begin{bmatrix} \\mathbf{H}^1 \\\\  \\mathbf{H}^2 \\\\ ... \\\\  \\mathbf{H}^N   \\end{bmatrix}  \\mathbf{x}_k + \\mathbf{v}, \\quad \\mathbf{v} \\sim \\mathcal{N}(0, R \\ \\mathbb{I}_N).\n",
    "\\end{aligned}\n",
    "\n",
    "### Analysis:\n",
    "Elaborate on the following:\n",
    "- Comment on the centralized Kalman filter mean estimates. Explain how $||\\mathbf{p}_k||_2^2$ is estimated without even measuring the variable itself."
   ]
  },
  {
   "cell_type": "code",
   "execution_count": null,
   "metadata": {},
   "outputs": [],
   "source": [
    "# Centralized estimates\n",
    "centralized_means = [initial_estimate]\n",
    "centralized_covariances = [initial_covariance]\n",
    "\n",
    "\n",
    "#####  YOUR CODE HERE #####\n",
    "\n",
    "\n",
    "##### END HERE #####\n",
    "\n",
    "\n",
    "helper.plotCentralizedKFEstimate(true_states, anchor_positions, edge_list, centralized_means)"
   ]
  },
  {
   "cell_type": "markdown",
   "metadata": {},
   "source": [
    "### Task 3: Distributed Kalman Filter Implementation\n",
    "Implement a distributed Kalman filter using the formulation given below. After each time step, append your mean and covariance estimates for anchor `n` to lists `local_means[n]` and `centralized_covariances[n]` respectively.\n",
    "\n",
    "\n",
    "\n",
    "\n",
    "Assume that anchor $n$ has access to measurements of itself and its neighbors $j \\in \\mathcal{N}_n \\cup \\{n\\}$.\n",
    "At time $k$, a local estimate can be computed using the following procedure:\n",
    "\n",
    "\\begin{aligned}\n",
    "&\\text{Time Update:} \\\\\n",
    "&\\hat{x}_{n, k+1 | k} = F \\hat{x}_{n, k+1 | k}  \\\\\n",
    "&P_{n, k+1 | k} = F P_{n, k+1 | k} F^T + Q  \\\\\n",
    "\\newline\n",
    "&\\text{Measurement Update:} \\\\\n",
    "&x_{n,k} = \\hat{x}_{n, k | k-1} \\\\\n",
    "&P_{n,k} = P_{n, k | k-1} \\\\\n",
    "&\\text{For each} \\ j \\in \\mathcal{N}_n \\ \\text{repeat:} \\\\\n",
    "& \\quad S_{j,k} = H_{j} P_{n,k} H_{j}^T + R_{j} \\\\\n",
    "& \\quad K_{j,k} = P_{n,k} H_{j}^T S_{j,k}^{-1} \\\\\n",
    "& \\quad x_{n,k} = x_{n,k} + K_{j,k} (y_{j,k} - H_{j} x_{n,k})\\\\\n",
    "& \\quad P_{n,k} = P_{n,k} - K_{j,k}  H_{j}  P_{n,k} \\\\\n",
    "&\\text{end} \\\\\n",
    "&\\hat{x}_{n, k | k} = x_{n,k} \\\\\n",
    "&P_{n, k | k} = P_{n,k} \\\\\n",
    "\\end{aligned}\n",
    "\n",
    "Alternatively a more compact from  can be expressed, similar to the information form KF, as\n",
    "\\begin{aligned}\n",
    "&\\text{Time Update:} \\\\\n",
    "&\\hat{x}_{n, k+1 | k} = F \\hat{x}_{n, k | k}  \\\\\n",
    "&P_{n, k+1 | k} = F P_{n, k | k} F^T + Q  \\\\\n",
    "\\newline\n",
    "&\\text{Measurement Update:} \\\\\n",
    "&P_{n,k | k}^{-1} = P_{n,k | k-1}^{-1} + \\sum_{j \\in \\mathcal{N}_n \\cup \\{n\\}} H_{j}^T  R_{j}^{-1}  H_{j}  \\\\\n",
    "&\\hat{x}_{n, k | k} = \\hat{x}_{n,k | k-1} + P_{n,k|k} \\sum_{j \\in \\mathcal{N}_n \\cup \\{n\\}} H_{j}^T R_{j}^{-1} (y_{j, k} - H_{j}\\hat{x}_{n,k | k-1}  )\\\\\n",
    "\\end{aligned}\n",
    "\n",
    "### Analysis:\n",
    "Elaborate on the following:\n",
    "- Analyze the behavior of the decentralized Kalman filter. At a glance, how does it differ from the centralized one?\n",
    "- How would the estimates change if you change the number of edges. Comment on what would happen if all edges were removed.\n",
    "- How many neighbors does an anchor need for a feasible solution? In other words, how many neighbors are required for each anchor to estimate a position? You may provide a geometric interpretation."
   ]
  },
  {
   "cell_type": "code",
   "execution_count": null,
   "metadata": {},
   "outputs": [],
   "source": [
    "# Initialize anchor-specific variables\n",
    "local_means = [[initial_estimate] for _ in range(anchor_positions.shape[1])]\n",
    "local_covariances = [[initial_covariance] for _ in range(anchor_positions.shape[1])]\n",
    "\n",
    "#### YOUR CODE HERE ####\n",
    "\n",
    "\n",
    "\n",
    "#### END HERE ####\n",
    "\n",
    "helper.plotDecentralizedKFEstimate(true_states, anchor_positions, edge_list, local_means)\n",
    "\n"
   ]
  },
  {
   "cell_type": "markdown",
   "metadata": {},
   "source": [
    "### Task 4: Comparison\n",
    "Compute the squared errors of the centralized and local position mean estimates and plot them against time instances. Make sure that the axes are labeled with appropriate units. Also include a legend with descriptive names for each estimate.\n",
    "\n",
    "### Analysis:\n",
    "- Compare and discuss the filter performances. \n",
    "- What are the main advantages and disadvantages of centralized and decentralized Kalman filters?"
   ]
  },
  {
   "cell_type": "code",
   "execution_count": null,
   "metadata": {},
   "outputs": [],
   "source": [
    "#### YOUR CODE HERE ####\n",
    "\n",
    "\n",
    "#### END HERE ####"
   ]
  },
  {
   "cell_type": "markdown",
   "metadata": {},
   "source": [
    "#### Feedback:\n",
    "This is the first year we are teaching this course. Your feedback will be invaluable in improving it for the coming years. Please let us know in this markdown any comments, suggestions or errors you have encountered in the last three assignments.  "
   ]
  }
 ],
 "metadata": {
  "kernelspec": {
   "display_name": "new_env",
   "language": "python",
   "name": "python3"
  },
  "language_info": {
   "codemirror_mode": {
    "name": "ipython",
    "version": 3
   },
   "file_extension": ".py",
   "mimetype": "text/x-python",
   "name": "python",
   "nbconvert_exporter": "python",
   "pygments_lexer": "ipython3",
   "version": "3.9.21"
  }
 },
 "nbformat": 4,
 "nbformat_minor": 2
}
